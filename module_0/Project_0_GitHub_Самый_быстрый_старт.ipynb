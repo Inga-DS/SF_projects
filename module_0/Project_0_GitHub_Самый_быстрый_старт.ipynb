{
 "cells": [
  {
   "cell_type": "markdown",
   "metadata": {},
   "source": [
    "## Проект 0. GitHub. Угадай число"
   ]
  },
  {
   "cell_type": "markdown",
   "metadata": {},
   "source": [
    "Алгоритм бинарного поиска:"
   ]
  },
  {
   "cell_type": "markdown",
   "metadata": {},
   "source": [
    "1. Находим середину отсортированного массива.\n",
    "2. Сравниваем её с искомым значением: если предсказанное число меньше загаданного, отсекаем левую часть, если больше, то правую.\n",
    "3. Повторяем, пока не найдём загаданное число."
   ]
  },
  {
   "cell_type": "code",
   "execution_count": 10,
   "metadata": {},
   "outputs": [
    {
     "name": "stdout",
     "output_type": "stream",
     "text": [
      "Your algorithm guesses the average number per 5 attempts\n"
     ]
    },
    {
     "data": {
      "text/plain": [
       "5"
      ]
     },
     "execution_count": 10,
     "metadata": {},
     "output_type": "execute_result"
    }
   ],
   "source": [
    "import numpy as np\n",
    "\n",
    "def score_game(game_score):\n",
    "    \"\"\"We start the game 1000 times to find out how quickly the game guess the number.\"\"\"\n",
    "    count_ls = []\n",
    "    np.random.seed(1) #Random Seed: the experiment could be reproducible\n",
    "    random_array = np.random.randint(1, 101, size=(1000))\n",
    "    for number in random_array:\n",
    "        count_ls.append(game_core(number))\n",
    "        \n",
    "    score = int(np.mean(count_ls))\n",
    "    print(f\"Your algorithm guesses the average number per {score} attempts\")\n",
    "    return score\n",
    "\n",
    "\n",
    "def game_core(number):\n",
    "    \"\"\"As a predict we take always the middle of the interval.\n",
    "       In depend of the comparison the lowest limit (minimum) or the highest limit (maximum).\n",
    "       Will be appropriste moved, until the solution will be found.\n",
    "    \"\"\"\n",
    "    count = 1\n",
    "    minimum = 1\n",
    "    maximum = 101\n",
    "    \n",
    "    predict = (maximum + minimum) // 2\n",
    "    \n",
    "    while number != predict:\n",
    "        count += 1\n",
    "        if number > predict:\n",
    "            minimum = predict\n",
    "        else:\n",
    "            maximum = predict\n",
    "            \n",
    "        predict = (maximum + minimum) // 2\n",
    "        \n",
    "    return count\n",
    "\n",
    "score_game(game_core)"
   ]
  },
  {
   "cell_type": "code",
   "execution_count": null,
   "metadata": {},
   "outputs": [],
   "source": []
  }
 ],
 "metadata": {
  "kernelspec": {
   "display_name": "Python 3",
   "language": "python",
   "name": "python3"
  },
  "language_info": {
   "codemirror_mode": {
    "name": "ipython",
    "version": 3
   },
   "file_extension": ".py",
   "mimetype": "text/x-python",
   "name": "python",
   "nbconvert_exporter": "python",
   "pygments_lexer": "ipython3",
   "version": "3.8.3"
  }
 },
 "nbformat": 4,
 "nbformat_minor": 2
}
